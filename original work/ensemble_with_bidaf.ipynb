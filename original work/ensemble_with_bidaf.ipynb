{
  "nbformat": 4,
  "nbformat_minor": 0,
  "metadata": {
    "colab": {
      "name": "ensemble_with bidaf.ipynb",
      "provenance": [],
      "collapsed_sections": []
    },
    "kernelspec": {
      "name": "python3",
      "display_name": "Python 3"
    }
  },
  "cells": [
    {
      "cell_type": "markdown",
      "metadata": {
        "id": "3_QnunjtP1uO"
      },
      "source": [
        "In this notebook we perform ensembling on the prediction obtained from BERT, ALBERT, RoBERTa, DistilBERT, and BiDAF. \r\n",
        "\r\n",
        "After training, every model generates a file called. 'predictions'. Contents of this file include a predicted answer for every question. \r\n",
        "We predictions from all of the above models to create an ensemble based on majority voting.  "
      ]
    },
    {
      "cell_type": "code",
      "metadata": {
        "colab": {
          "base_uri": "https://localhost:8080/"
        },
        "id": "WlPz3MFBpiuw",
        "outputId": "8db3acf9-dea7-4e98-bbe2-33c6994ba067"
      },
      "source": [
        "from google.colab import drive\n",
        "drive.mount('/content/drive')"
      ],
      "execution_count": 1,
      "outputs": [
        {
          "output_type": "stream",
          "text": [
            "Drive already mounted at /content/drive; to attempt to forcibly remount, call drive.mount(\"/content/drive\", force_remount=True).\n"
          ],
          "name": "stdout"
        }
      ]
    },
    {
      "cell_type": "code",
      "metadata": {
        "id": "pH50xqhLpcW-"
      },
      "source": [
        "import json \n",
        "  \n",
        "f = open('/content/drive/MyDrive/all_predictions/predictions_albert.json',) \n",
        "data_albert = json.load(f) \n",
        "f.close() \n",
        "\n",
        "g = open('/content/drive/MyDrive/all_predictions/predictions_bert.json',) \n",
        "data_bert = json.load(g) \n",
        "g.close() \n",
        "\n",
        "h = open('/content/drive/MyDrive/all_predictions/predictions_distilbert.json',) \n",
        "data_distilbert = json.load(h) \n",
        "h.close() \n",
        "\n",
        "i = open('/content/drive/MyDrive/all_predictions/predictions_roberta.json',) \n",
        "data_roberta = json.load(i) \n",
        "i.close() "
      ],
      "execution_count": 2,
      "outputs": []
    },
    {
      "cell_type": "code",
      "metadata": {
        "colab": {
          "base_uri": "https://localhost:8080/"
        },
        "id": "0_GhLPrI5nCK",
        "outputId": "1be60ed0-65db-4946-b379-b7432c895dd3"
      },
      "source": [
        "import pandas as pd\r\n",
        "\r\n",
        "colnames=['ids', 'bidaf answers'] \r\n",
        "bidaf_df = pd.read_csv('/content/dev_submission.csv', names=colnames, header=None)\r\n",
        "bidaf_df.shape"
      ],
      "execution_count": 3,
      "outputs": [
        {
          "output_type": "execute_result",
          "data": {
            "text/plain": [
              "(11731, 2)"
            ]
          },
          "metadata": {
            "tags": []
          },
          "execution_count": 3
        }
      ]
    },
    {
      "cell_type": "code",
      "metadata": {
        "colab": {
          "base_uri": "https://localhost:8080/",
          "height": 402
        },
        "id": "IEhQm3pI58ua",
        "outputId": "44199bce-c0d0-492d-e088-cc82b1d0b880"
      },
      "source": [
        "bidaf_df.head(12)"
      ],
      "execution_count": 4,
      "outputs": [
        {
          "output_type": "execute_result",
          "data": {
            "text/html": [
              "<div>\n",
              "<style scoped>\n",
              "    .dataframe tbody tr th:only-of-type {\n",
              "        vertical-align: middle;\n",
              "    }\n",
              "\n",
              "    .dataframe tbody tr th {\n",
              "        vertical-align: top;\n",
              "    }\n",
              "\n",
              "    .dataframe thead th {\n",
              "        text-align: right;\n",
              "    }\n",
              "</style>\n",
              "<table border=\"1\" class=\"dataframe\">\n",
              "  <thead>\n",
              "    <tr style=\"text-align: right;\">\n",
              "      <th></th>\n",
              "      <th>ids</th>\n",
              "      <th>bidaf answers</th>\n",
              "    </tr>\n",
              "  </thead>\n",
              "  <tbody>\n",
              "    <tr>\n",
              "      <th>0</th>\n",
              "      <td>Id</td>\n",
              "      <td>Predicted</td>\n",
              "    </tr>\n",
              "    <tr>\n",
              "      <th>1</th>\n",
              "      <td>56ddde6b9a695914005b9628</td>\n",
              "      <td>France</td>\n",
              "    </tr>\n",
              "    <tr>\n",
              "      <th>2</th>\n",
              "      <td>56ddde6b9a695914005b9629</td>\n",
              "      <td>10th and 11th centuries</td>\n",
              "    </tr>\n",
              "    <tr>\n",
              "      <th>3</th>\n",
              "      <td>56ddde6b9a695914005b962a</td>\n",
              "      <td>Denmark, Iceland and Norway</td>\n",
              "    </tr>\n",
              "    <tr>\n",
              "      <th>4</th>\n",
              "      <td>56ddde6b9a695914005b962b</td>\n",
              "      <td>Rollo</td>\n",
              "    </tr>\n",
              "    <tr>\n",
              "      <th>5</th>\n",
              "      <td>56ddde6b9a695914005b962c</td>\n",
              "      <td>10th</td>\n",
              "    </tr>\n",
              "    <tr>\n",
              "      <th>6</th>\n",
              "      <td>56dddf4066d3e219004dad5f</td>\n",
              "      <td>Norman</td>\n",
              "    </tr>\n",
              "    <tr>\n",
              "      <th>7</th>\n",
              "      <td>56dddf4066d3e219004dad60</td>\n",
              "      <td>Richard I</td>\n",
              "    </tr>\n",
              "    <tr>\n",
              "      <th>8</th>\n",
              "      <td>56dddf4066d3e219004dad61</td>\n",
              "      <td>Christian</td>\n",
              "    </tr>\n",
              "    <tr>\n",
              "      <th>9</th>\n",
              "      <td>56dde0379a695914005b9636</td>\n",
              "      <td>Norseman, Viking</td>\n",
              "    </tr>\n",
              "    <tr>\n",
              "      <th>10</th>\n",
              "      <td>56dde0379a695914005b9637</td>\n",
              "      <td>NaN</td>\n",
              "    </tr>\n",
              "    <tr>\n",
              "      <th>11</th>\n",
              "      <td>56dde0ba66d3e219004dad75</td>\n",
              "      <td>NaN</td>\n",
              "    </tr>\n",
              "  </tbody>\n",
              "</table>\n",
              "</div>"
            ],
            "text/plain": [
              "                         ids                bidaf answers\n",
              "0                         Id                    Predicted\n",
              "1   56ddde6b9a695914005b9628                       France\n",
              "2   56ddde6b9a695914005b9629      10th and 11th centuries\n",
              "3   56ddde6b9a695914005b962a  Denmark, Iceland and Norway\n",
              "4   56ddde6b9a695914005b962b                        Rollo\n",
              "5   56ddde6b9a695914005b962c                         10th\n",
              "6   56dddf4066d3e219004dad5f                       Norman\n",
              "7   56dddf4066d3e219004dad60                    Richard I\n",
              "8   56dddf4066d3e219004dad61                    Christian\n",
              "9   56dde0379a695914005b9636             Norseman, Viking\n",
              "10  56dde0379a695914005b9637                          NaN\n",
              "11  56dde0ba66d3e219004dad75                          NaN"
            ]
          },
          "metadata": {
            "tags": []
          },
          "execution_count": 4
        }
      ]
    },
    {
      "cell_type": "code",
      "metadata": {
        "id": "u6JqGlxw8RIM"
      },
      "source": [
        "import numpy as np\r\n",
        "bidaf_df_fin = bidaf_df.replace(np.nan, '', regex=True)"
      ],
      "execution_count": 5,
      "outputs": []
    },
    {
      "cell_type": "code",
      "metadata": {
        "id": "eqMNr2To6DIY"
      },
      "source": [
        "data_bidaf = {}\r\n",
        "\r\n",
        "for index, row in bidaf_df_fin.iterrows():\r\n",
        "    data_bidaf[row['ids']] =  row['bidaf answers']\r\n",
        "\r\n",
        "del data_bidaf['Id']    "
      ],
      "execution_count": 6,
      "outputs": []
    },
    {
      "cell_type": "code",
      "metadata": {
        "id": "R_W7aXjt8n5q"
      },
      "source": [
        "ids = []\r\n",
        "for key in data_albert:\r\n",
        "    ids.append(key)"
      ],
      "execution_count": 7,
      "outputs": []
    },
    {
      "cell_type": "code",
      "metadata": {
        "id": "QkR1Y831rbq1"
      },
      "source": [
        "answers_albert = []\n",
        "answers_bert = []\n",
        "answers_distilbert = []\n",
        "answers_roberta = []\n",
        "\n",
        "for id in ids:\n",
        "    answers_albert.append(data_albert[id])\n",
        "\n",
        "for id in ids:\n",
        "    answers_bert.append(data_bert[id])\n",
        "\n",
        "for id in ids:\n",
        "    answers_distilbert.append(data_distilbert[id])\n",
        "\n",
        "for id in ids:\n",
        "    answers_roberta.append(data_roberta[id])\n",
        "    "
      ],
      "execution_count": 8,
      "outputs": []
    },
    {
      "cell_type": "code",
      "metadata": {
        "id": "XI8tKQMEQJQI"
      },
      "source": [
        "bidaf_ids = []\r\n",
        "for key in data_bidaf:\r\n",
        "    bidaf_ids.append(key)"
      ],
      "execution_count": 9,
      "outputs": []
    },
    {
      "cell_type": "code",
      "metadata": {
        "id": "tR38L0ORPTor"
      },
      "source": [
        "answers_bidaf = []\r\n",
        "for id in bidaf_ids:\r\n",
        "    answers_bidaf.append(data_bidaf[id])"
      ],
      "execution_count": 10,
      "outputs": []
    },
    {
      "cell_type": "code",
      "metadata": {
        "id": "jv2kK8CpQpJq"
      },
      "source": [
        "def intersection(lst1, lst2): \r\n",
        "    lst3 = [value for value in lst1 if value not in lst2] \r\n",
        "    return lst3 "
      ],
      "execution_count": 11,
      "outputs": []
    },
    {
      "cell_type": "code",
      "metadata": {
        "id": "qIaaZncTQpEN"
      },
      "source": [
        "extra_ids = intersection(ids, bidaf_ids)"
      ],
      "execution_count": 12,
      "outputs": []
    },
    {
      "cell_type": "code",
      "metadata": {
        "id": "Eqx4iz6JRqyF"
      },
      "source": [
        "for id in extra_ids:\r\n",
        "    answers_bidaf.append(data_roberta[id])"
      ],
      "execution_count": 13,
      "outputs": []
    },
    {
      "cell_type": "code",
      "metadata": {
        "id": "GKxPfVaSRqnS"
      },
      "source": [
        ""
      ],
      "execution_count": 13,
      "outputs": []
    },
    {
      "cell_type": "code",
      "metadata": {
        "id": "YYNYL_y2Rqh0"
      },
      "source": [
        ""
      ],
      "execution_count": 13,
      "outputs": []
    },
    {
      "cell_type": "code",
      "metadata": {
        "id": "OxgbeDgwsY5_"
      },
      "source": [
        "all_preds = [] \n",
        "for i in range(len(ids)):\n",
        "    all_preds.append([ids[i], answers_albert[i], answers_bert[i], answers_distilbert[i], answers_roberta[i], answers_bidaf[i]])"
      ],
      "execution_count": 14,
      "outputs": []
    },
    {
      "cell_type": "code",
      "metadata": {
        "colab": {
          "base_uri": "https://localhost:8080/"
        },
        "id": "E409UyMbjnFo",
        "outputId": "e6f46f5f-7997-4c1d-dd87-4b20d6fce3b0"
      },
      "source": [
        "all_preds[0]"
      ],
      "execution_count": 15,
      "outputs": [
        {
          "output_type": "execute_result",
          "data": {
            "text/plain": [
              "['56ddde6b9a695914005b9628', 'France', 'France', 'France', 'France.', 'France']"
            ]
          },
          "metadata": {
            "tags": []
          },
          "execution_count": 15
        }
      ]
    },
    {
      "cell_type": "code",
      "metadata": {
        "colab": {
          "base_uri": "https://localhost:8080/",
          "height": 212
        },
        "id": "9NrZU1QLvG4O",
        "outputId": "75d4ccbe-4853-4e37-8a2a-63ec95594c34"
      },
      "source": [
        "import pandas as pd\n",
        "df = pd.DataFrame(all_preds, columns = ['ids', 'albert answers', 'bert answers', 'distilbert answers', 'roberta answers', 'bidaf answers'])\n",
        "df.head()"
      ],
      "execution_count": 16,
      "outputs": [
        {
          "output_type": "execute_result",
          "data": {
            "text/html": [
              "<div>\n",
              "<style scoped>\n",
              "    .dataframe tbody tr th:only-of-type {\n",
              "        vertical-align: middle;\n",
              "    }\n",
              "\n",
              "    .dataframe tbody tr th {\n",
              "        vertical-align: top;\n",
              "    }\n",
              "\n",
              "    .dataframe thead th {\n",
              "        text-align: right;\n",
              "    }\n",
              "</style>\n",
              "<table border=\"1\" class=\"dataframe\">\n",
              "  <thead>\n",
              "    <tr style=\"text-align: right;\">\n",
              "      <th></th>\n",
              "      <th>ids</th>\n",
              "      <th>albert answers</th>\n",
              "      <th>bert answers</th>\n",
              "      <th>distilbert answers</th>\n",
              "      <th>roberta answers</th>\n",
              "      <th>bidaf answers</th>\n",
              "    </tr>\n",
              "  </thead>\n",
              "  <tbody>\n",
              "    <tr>\n",
              "      <th>0</th>\n",
              "      <td>56ddde6b9a695914005b9628</td>\n",
              "      <td>France</td>\n",
              "      <td>France</td>\n",
              "      <td>France</td>\n",
              "      <td>France.</td>\n",
              "      <td>France</td>\n",
              "    </tr>\n",
              "    <tr>\n",
              "      <th>1</th>\n",
              "      <td>56ddde6b9a695914005b9629</td>\n",
              "      <td>10th and 11th centuries</td>\n",
              "      <td>10th and 11th centuries</td>\n",
              "      <td>10th and 11th centuries</td>\n",
              "      <td>10th and 11th centuries</td>\n",
              "      <td>10th and 11th centuries</td>\n",
              "    </tr>\n",
              "    <tr>\n",
              "      <th>2</th>\n",
              "      <td>56ddde6b9a695914005b962a</td>\n",
              "      <td>Denmark, Iceland and Norway</td>\n",
              "      <td>Denmark, Iceland and Norway</td>\n",
              "      <td>Denmark, Iceland and Norway</td>\n",
              "      <td>Denmark, Iceland and Norway</td>\n",
              "      <td>Denmark, Iceland and Norway</td>\n",
              "    </tr>\n",
              "    <tr>\n",
              "      <th>3</th>\n",
              "      <td>56ddde6b9a695914005b962b</td>\n",
              "      <td></td>\n",
              "      <td>Rollo</td>\n",
              "      <td>Rollo</td>\n",
              "      <td></td>\n",
              "      <td>Rollo</td>\n",
              "    </tr>\n",
              "    <tr>\n",
              "      <th>4</th>\n",
              "      <td>56ddde6b9a695914005b962c</td>\n",
              "      <td>10th</td>\n",
              "      <td>10th</td>\n",
              "      <td>10th</td>\n",
              "      <td>10th</td>\n",
              "      <td>10th</td>\n",
              "    </tr>\n",
              "  </tbody>\n",
              "</table>\n",
              "</div>"
            ],
            "text/plain": [
              "                        ids  ...                bidaf answers\n",
              "0  56ddde6b9a695914005b9628  ...                       France\n",
              "1  56ddde6b9a695914005b9629  ...      10th and 11th centuries\n",
              "2  56ddde6b9a695914005b962a  ...  Denmark, Iceland and Norway\n",
              "3  56ddde6b9a695914005b962b  ...                        Rollo\n",
              "4  56ddde6b9a695914005b962c  ...                         10th\n",
              "\n",
              "[5 rows x 6 columns]"
            ]
          },
          "metadata": {
            "tags": []
          },
          "execution_count": 16
        }
      ]
    },
    {
      "cell_type": "code",
      "metadata": {
        "colab": {
          "base_uri": "https://localhost:8080/"
        },
        "id": "C3nJ8lH-jIof",
        "outputId": "f264cb76-e24e-4463-ae4e-82519284635b"
      },
      "source": [
        "df.shape"
      ],
      "execution_count": 17,
      "outputs": [
        {
          "output_type": "execute_result",
          "data": {
            "text/plain": [
              "(11873, 6)"
            ]
          },
          "metadata": {
            "tags": []
          },
          "execution_count": 17
        }
      ]
    },
    {
      "cell_type": "code",
      "metadata": {
        "id": "1TRnMfkIwOmV"
      },
      "source": [
        "from collections import Counter\n",
        "import operator\n",
        "\n",
        "fin_preds = []\n",
        "for i in range(len(ids)):\n",
        "    d = Counter(all_preds[i][1:])\n",
        "    fin_preds.append([ids[i], max(d.items(), key=operator.itemgetter(1))[0]])"
      ],
      "execution_count": 18,
      "outputs": []
    },
    {
      "cell_type": "code",
      "metadata": {
        "colab": {
          "base_uri": "https://localhost:8080/",
          "height": 195
        },
        "id": "2WAJhsnMwOjr",
        "outputId": "048ee1f4-1906-4d87-9794-74ab260b3ebb"
      },
      "source": [
        "df_fin = pd.DataFrame(fin_preds, columns = ['ids', 'ensembled answers'])\n",
        "df_fin.head()"
      ],
      "execution_count": 19,
      "outputs": [
        {
          "output_type": "execute_result",
          "data": {
            "text/html": [
              "<div>\n",
              "<style scoped>\n",
              "    .dataframe tbody tr th:only-of-type {\n",
              "        vertical-align: middle;\n",
              "    }\n",
              "\n",
              "    .dataframe tbody tr th {\n",
              "        vertical-align: top;\n",
              "    }\n",
              "\n",
              "    .dataframe thead th {\n",
              "        text-align: right;\n",
              "    }\n",
              "</style>\n",
              "<table border=\"1\" class=\"dataframe\">\n",
              "  <thead>\n",
              "    <tr style=\"text-align: right;\">\n",
              "      <th></th>\n",
              "      <th>ids</th>\n",
              "      <th>ensembled answers</th>\n",
              "    </tr>\n",
              "  </thead>\n",
              "  <tbody>\n",
              "    <tr>\n",
              "      <th>0</th>\n",
              "      <td>56ddde6b9a695914005b9628</td>\n",
              "      <td>France</td>\n",
              "    </tr>\n",
              "    <tr>\n",
              "      <th>1</th>\n",
              "      <td>56ddde6b9a695914005b9629</td>\n",
              "      <td>10th and 11th centuries</td>\n",
              "    </tr>\n",
              "    <tr>\n",
              "      <th>2</th>\n",
              "      <td>56ddde6b9a695914005b962a</td>\n",
              "      <td>Denmark, Iceland and Norway</td>\n",
              "    </tr>\n",
              "    <tr>\n",
              "      <th>3</th>\n",
              "      <td>56ddde6b9a695914005b962b</td>\n",
              "      <td>Rollo</td>\n",
              "    </tr>\n",
              "    <tr>\n",
              "      <th>4</th>\n",
              "      <td>56ddde6b9a695914005b962c</td>\n",
              "      <td>10th</td>\n",
              "    </tr>\n",
              "  </tbody>\n",
              "</table>\n",
              "</div>"
            ],
            "text/plain": [
              "                        ids            ensembled answers\n",
              "0  56ddde6b9a695914005b9628                       France\n",
              "1  56ddde6b9a695914005b9629      10th and 11th centuries\n",
              "2  56ddde6b9a695914005b962a  Denmark, Iceland and Norway\n",
              "3  56ddde6b9a695914005b962b                        Rollo\n",
              "4  56ddde6b9a695914005b962c                         10th"
            ]
          },
          "metadata": {
            "tags": []
          },
          "execution_count": 19
        }
      ]
    },
    {
      "cell_type": "markdown",
      "metadata": {
        "id": "NEZcUE49-mFw"
      },
      "source": [
        "Replace no answers with roberta answers\r\n"
      ]
    },
    {
      "cell_type": "code",
      "metadata": {
        "id": "hfn0m67d-h61"
      },
      "source": [
        "fin_preds_dict = {}\r\n",
        "\r\n",
        "for l in fin_preds:\r\n",
        "    fin_preds_dict[l[0]] = l[1]\r\n",
        "    "
      ],
      "execution_count": 20,
      "outputs": []
    },
    {
      "cell_type": "code",
      "metadata": {
        "id": "6qd8-2Ku-hy8"
      },
      "source": [
        "for i in data_roberta:\r\n",
        "    if data_roberta[i]=='':\r\n",
        "        fin_preds_dict[i] = data_roberta[i]"
      ],
      "execution_count": 21,
      "outputs": []
    },
    {
      "cell_type": "code",
      "metadata": {
        "id": "heBfewksHX26"
      },
      "source": [
        "processed_fin_preds = []\r\n",
        "\r\n",
        "for key in fin_preds_dict.keys():\r\n",
        "    processed_fin_preds.append([key, fin_preds_dict[key]])"
      ],
      "execution_count": 22,
      "outputs": []
    },
    {
      "cell_type": "code",
      "metadata": {
        "colab": {
          "base_uri": "https://localhost:8080/"
        },
        "id": "flPa-D9Q-hvY",
        "outputId": "8a818f9c-f985-400f-a30a-379388df13fc"
      },
      "source": [
        "processed_fin_preds[0]"
      ],
      "execution_count": 23,
      "outputs": [
        {
          "output_type": "execute_result",
          "data": {
            "text/plain": [
              "['56ddde6b9a695914005b9628', 'France']"
            ]
          },
          "metadata": {
            "tags": []
          },
          "execution_count": 23
        }
      ]
    },
    {
      "cell_type": "code",
      "metadata": {
        "id": "Y--0iZit-jV5"
      },
      "source": [
        "# !git clone https://github.com/huggingface/transformers \\\r\n",
        "# && cd transformers \\\r\n",
        "# && git checkout a3085020ed0d81d4903c50967687192e3101e770 "
      ],
      "execution_count": 24,
      "outputs": []
    },
    {
      "cell_type": "code",
      "metadata": {
        "id": "LME6H72hIYjh"
      },
      "source": [
        "# !pip install ./transformers\r\n",
        "# !pip install tensorboardX"
      ],
      "execution_count": 25,
      "outputs": []
    },
    {
      "cell_type": "code",
      "metadata": {
        "colab": {
          "base_uri": "https://localhost:8080/"
        },
        "id": "wDzySJKUVnbf",
        "outputId": "64d0be79-a142-4129-b35f-0e76ce177b66"
      },
      "source": [
        "!pip install transformers\n",
        "!pip install tensorboardX"
      ],
      "execution_count": 26,
      "outputs": [
        {
          "output_type": "stream",
          "text": [
            "Collecting transformers\n",
            "\u001b[?25l  Downloading https://files.pythonhosted.org/packages/ed/db/98c3ea1a78190dac41c0127a063abf92bd01b4b0b6970a6db1c2f5b66fa0/transformers-4.0.1-py3-none-any.whl (1.4MB)\n",
            "\u001b[K     |████████████████████████████████| 1.4MB 5.8MB/s \n",
            "\u001b[?25hCollecting sacremoses\n",
            "\u001b[?25l  Downloading https://files.pythonhosted.org/packages/7d/34/09d19aff26edcc8eb2a01bed8e98f13a1537005d31e95233fd48216eed10/sacremoses-0.0.43.tar.gz (883kB)\n",
            "\u001b[K     |████████████████████████████████| 890kB 21.9MB/s \n",
            "\u001b[?25hRequirement already satisfied: packaging in /usr/local/lib/python3.6/dist-packages (from transformers) (20.7)\n",
            "Requirement already satisfied: regex!=2019.12.17 in /usr/local/lib/python3.6/dist-packages (from transformers) (2019.12.20)\n",
            "Requirement already satisfied: filelock in /usr/local/lib/python3.6/dist-packages (from transformers) (3.0.12)\n",
            "Requirement already satisfied: numpy in /usr/local/lib/python3.6/dist-packages (from transformers) (1.18.5)\n",
            "Collecting tokenizers==0.9.4\n",
            "\u001b[?25l  Downloading https://files.pythonhosted.org/packages/0f/1c/e789a8b12e28be5bc1ce2156cf87cb522b379be9cadc7ad8091a4cc107c4/tokenizers-0.9.4-cp36-cp36m-manylinux2010_x86_64.whl (2.9MB)\n",
            "\u001b[K     |████████████████████████████████| 2.9MB 36.6MB/s \n",
            "\u001b[?25hRequirement already satisfied: tqdm>=4.27 in /usr/local/lib/python3.6/dist-packages (from transformers) (4.41.1)\n",
            "Requirement already satisfied: dataclasses; python_version < \"3.7\" in /usr/local/lib/python3.6/dist-packages (from transformers) (0.8)\n",
            "Requirement already satisfied: requests in /usr/local/lib/python3.6/dist-packages (from transformers) (2.23.0)\n",
            "Requirement already satisfied: six in /usr/local/lib/python3.6/dist-packages (from sacremoses->transformers) (1.15.0)\n",
            "Requirement already satisfied: click in /usr/local/lib/python3.6/dist-packages (from sacremoses->transformers) (7.1.2)\n",
            "Requirement already satisfied: joblib in /usr/local/lib/python3.6/dist-packages (from sacremoses->transformers) (0.17.0)\n",
            "Requirement already satisfied: pyparsing>=2.0.2 in /usr/local/lib/python3.6/dist-packages (from packaging->transformers) (2.4.7)\n",
            "Requirement already satisfied: certifi>=2017.4.17 in /usr/local/lib/python3.6/dist-packages (from requests->transformers) (2020.12.5)\n",
            "Requirement already satisfied: chardet<4,>=3.0.2 in /usr/local/lib/python3.6/dist-packages (from requests->transformers) (3.0.4)\n",
            "Requirement already satisfied: urllib3!=1.25.0,!=1.25.1,<1.26,>=1.21.1 in /usr/local/lib/python3.6/dist-packages (from requests->transformers) (1.24.3)\n",
            "Requirement already satisfied: idna<3,>=2.5 in /usr/local/lib/python3.6/dist-packages (from requests->transformers) (2.10)\n",
            "Building wheels for collected packages: sacremoses\n",
            "  Building wheel for sacremoses (setup.py) ... \u001b[?25l\u001b[?25hdone\n",
            "  Created wheel for sacremoses: filename=sacremoses-0.0.43-cp36-none-any.whl size=893261 sha256=d0b6d99700b9eeced26288264de51aae798579e1654848bd8efd103ca075e44a\n",
            "  Stored in directory: /root/.cache/pip/wheels/29/3c/fd/7ce5c3f0666dab31a50123635e6fb5e19ceb42ce38d4e58f45\n",
            "Successfully built sacremoses\n",
            "Installing collected packages: sacremoses, tokenizers, transformers\n",
            "Successfully installed sacremoses-0.0.43 tokenizers-0.9.4 transformers-4.0.1\n",
            "Collecting tensorboardX\n",
            "\u001b[?25l  Downloading https://files.pythonhosted.org/packages/af/0c/4f41bcd45db376e6fe5c619c01100e9b7531c55791b7244815bac6eac32c/tensorboardX-2.1-py2.py3-none-any.whl (308kB)\n",
            "\u001b[K     |████████████████████████████████| 317kB 4.0MB/s \n",
            "\u001b[?25hRequirement already satisfied: six in /usr/local/lib/python3.6/dist-packages (from tensorboardX) (1.15.0)\n",
            "Requirement already satisfied: numpy in /usr/local/lib/python3.6/dist-packages (from tensorboardX) (1.18.5)\n",
            "Requirement already satisfied: protobuf>=3.8.0 in /usr/local/lib/python3.6/dist-packages (from tensorboardX) (3.12.4)\n",
            "Requirement already satisfied: setuptools in /usr/local/lib/python3.6/dist-packages (from protobuf>=3.8.0->tensorboardX) (50.3.2)\n",
            "Installing collected packages: tensorboardX\n",
            "Successfully installed tensorboardX-2.1\n"
          ],
          "name": "stdout"
        }
      ]
    },
    {
      "cell_type": "code",
      "metadata": {
        "id": "XeldQxaPdDWd"
      },
      "source": [
        "import pickle\n",
        "with open('/content/drive/MyDrive/all_predictions/examples.pickle', 'rb') as handle:\n",
        "    examples = pickle.load(handle)\n",
        "\n",
        "with open('/content/drive/MyDrive/all_predictions/predictions.pickle', 'rb') as handle:\n",
        "    predictions = pickle.load(handle)"
      ],
      "execution_count": 27,
      "outputs": []
    },
    {
      "cell_type": "code",
      "metadata": {
        "id": "eIXPKi9pWIDs"
      },
      "source": [
        "import collections\n",
        "import json\n",
        "import math\n",
        "import re\n",
        "import string\n",
        "\n",
        "from transformers import BasicTokenizer\n",
        "\n",
        "# from ...utils import logging"
      ],
      "execution_count": 28,
      "outputs": []
    },
    {
      "cell_type": "code",
      "metadata": {
        "id": "Od0tF4RBWQDS"
      },
      "source": [
        "def compute_f1(a_gold, a_pred):\n",
        "    gold_toks = get_tokens(a_gold)\n",
        "    pred_toks = get_tokens(a_pred)\n",
        "    common = collections.Counter(gold_toks) & collections.Counter(pred_toks)\n",
        "    num_same = sum(common.values())\n",
        "    if len(gold_toks) == 0 or len(pred_toks) == 0:\n",
        "        # If either is no-answer, then F1 is 1 if they agree, 0 otherwise\n",
        "        return int(gold_toks == pred_toks)\n",
        "    if num_same == 0:\n",
        "        return 0\n",
        "    precision = 1.0 * num_same / len(pred_toks)\n",
        "    recall = 1.0 * num_same / len(gold_toks)\n",
        "    f1 = (2 * precision * recall) / (precision + recall)\n",
        "    return f1"
      ],
      "execution_count": 29,
      "outputs": []
    },
    {
      "cell_type": "code",
      "metadata": {
        "id": "0TFdXGnxWS8s"
      },
      "source": [
        "def get_raw_scores(examples, preds):\n",
        "    \"\"\"\n",
        "    Computes the exact and f1 scores from the examples and the model predictions\n",
        "    \"\"\"\n",
        "    exact_scores = {}\n",
        "    f1_scores = {}\n",
        "\n",
        "    for example in examples:\n",
        "        qas_id = example.qas_id\n",
        "        gold_answers = [answer[\"text\"] for answer in example.answers if normalize_answer(answer[\"text\"])]\n",
        "\n",
        "        if not gold_answers:\n",
        "            # For unanswerable questions, only correct answer is empty string\n",
        "            gold_answers = [\"\"]\n",
        "\n",
        "        if qas_id not in preds:\n",
        "            print(\"Missing prediction for %s\" % qas_id)\n",
        "            continue\n",
        "\n",
        "        prediction = preds[qas_id]\n",
        "        exact_scores[qas_id] = max(compute_exact(a, prediction) for a in gold_answers)\n",
        "        f1_scores[qas_id] = max(compute_f1(a, prediction) for a in gold_answers)\n",
        "\n",
        "    return exact_scores, f1_scores\n"
      ],
      "execution_count": 30,
      "outputs": []
    },
    {
      "cell_type": "code",
      "metadata": {
        "id": "FUYS7yfgWU7A"
      },
      "source": [
        "def apply_no_ans_threshold(scores, na_probs, qid_to_has_ans, na_prob_thresh):\n",
        "    new_scores = {}\n",
        "    for qid, s in scores.items():\n",
        "        pred_na = na_probs[qid] > na_prob_thresh\n",
        "        if pred_na:\n",
        "            new_scores[qid] = float(not qid_to_has_ans[qid])\n",
        "        else:\n",
        "            new_scores[qid] = s\n",
        "    return new_scores"
      ],
      "execution_count": 31,
      "outputs": []
    },
    {
      "cell_type": "code",
      "metadata": {
        "id": "VeZduLfMWYNO"
      },
      "source": [
        "def make_eval_dict(exact_scores, f1_scores, qid_list=None):\n",
        "    if not qid_list:\n",
        "        total = len(exact_scores)\n",
        "        return collections.OrderedDict(\n",
        "            [\n",
        "                (\"exact\", 100.0 * sum(exact_scores.values()) / total),\n",
        "                (\"f1\", 100.0 * sum(f1_scores.values()) / total),\n",
        "                (\"total\", total),\n",
        "            ]\n",
        "        )\n",
        "    else:\n",
        "        total = len(qid_list)\n",
        "        return collections.OrderedDict(\n",
        "            [\n",
        "                (\"exact\", 100.0 * sum(exact_scores[k] for k in qid_list) / total),\n",
        "                (\"f1\", 100.0 * sum(f1_scores[k] for k in qid_list) / total),\n",
        "                (\"total\", total),\n",
        "            ]\n",
        "        )"
      ],
      "execution_count": 32,
      "outputs": []
    },
    {
      "cell_type": "code",
      "metadata": {
        "id": "-_-LEUGQWYFS"
      },
      "source": [
        "def merge_eval(main_eval, new_eval, prefix):\n",
        "    for k in new_eval:\n",
        "        main_eval[\"%s_%s\" % (prefix, k)] = new_eval[k]"
      ],
      "execution_count": 33,
      "outputs": []
    },
    {
      "cell_type": "code",
      "metadata": {
        "id": "pb-eNv4eWlGm"
      },
      "source": [
        "def find_best_thresh_v2(preds, scores, na_probs, qid_to_has_ans):\n",
        "    num_no_ans = sum(1 for k in qid_to_has_ans if not qid_to_has_ans[k])\n",
        "    cur_score = num_no_ans\n",
        "    best_score = cur_score\n",
        "    best_thresh = 0.0\n",
        "    qid_list = sorted(na_probs, key=lambda k: na_probs[k])\n",
        "    for i, qid in enumerate(qid_list):\n",
        "        if qid not in scores:\n",
        "            continue\n",
        "        if qid_to_has_ans[qid]:\n",
        "            diff = scores[qid]\n",
        "        else:\n",
        "            if preds[qid]:\n",
        "                diff = -1\n",
        "            else:\n",
        "                diff = 0\n",
        "        cur_score += diff\n",
        "        if cur_score > best_score:\n",
        "            best_score = cur_score\n",
        "            best_thresh = na_probs[qid]\n",
        "\n",
        "    has_ans_score, has_ans_cnt = 0, 0\n",
        "    for qid in qid_list:\n",
        "        if not qid_to_has_ans[qid]:\n",
        "            continue\n",
        "        has_ans_cnt += 1\n",
        "\n",
        "        if qid not in scores:\n",
        "            continue\n",
        "        has_ans_score += scores[qid]\n",
        "\n",
        "    return 100.0 * best_score / len(scores), best_thresh, 1.0 * has_ans_score / has_ans_cnt\n"
      ],
      "execution_count": 34,
      "outputs": []
    },
    {
      "cell_type": "code",
      "metadata": {
        "id": "ReSeOpYsWk_V"
      },
      "source": [
        "def find_all_best_thresh_v2(main_eval, preds, exact_raw, f1_raw, na_probs, qid_to_has_ans):\n",
        "    best_exact, exact_thresh, has_ans_exact = find_best_thresh_v2(preds, exact_raw, na_probs, qid_to_has_ans)\n",
        "    best_f1, f1_thresh, has_ans_f1 = find_best_thresh_v2(preds, f1_raw, na_probs, qid_to_has_ans)\n",
        "    main_eval[\"best_exact\"] = best_exact\n",
        "    main_eval[\"best_exact_thresh\"] = exact_thresh\n",
        "    main_eval[\"best_f1\"] = best_f1\n",
        "    main_eval[\"best_f1_thresh\"] = f1_thresh\n",
        "    main_eval[\"has_ans_exact\"] = has_ans_exact\n",
        "    main_eval[\"has_ans_f1\"] = has_ans_f1"
      ],
      "execution_count": 35,
      "outputs": []
    },
    {
      "cell_type": "code",
      "metadata": {
        "id": "uNjLZBoGWrVi"
      },
      "source": [
        "def find_best_thresh(preds, scores, na_probs, qid_to_has_ans):\n",
        "    num_no_ans = sum(1 for k in qid_to_has_ans if not qid_to_has_ans[k])\n",
        "    cur_score = num_no_ans\n",
        "    best_score = cur_score\n",
        "    best_thresh = 0.0\n",
        "    qid_list = sorted(na_probs, key=lambda k: na_probs[k])\n",
        "    for _, qid in enumerate(qid_list):\n",
        "        if qid not in scores:\n",
        "            continue\n",
        "        if qid_to_has_ans[qid]:\n",
        "            diff = scores[qid]\n",
        "        else:\n",
        "            if preds[qid]:\n",
        "                diff = -1\n",
        "            else:\n",
        "                diff = 0\n",
        "        cur_score += diff\n",
        "        if cur_score > best_score:\n",
        "            best_score = cur_score\n",
        "            best_thresh = na_probs[qid]\n",
        "    return 100.0 * best_score / len(scores), best_thresh"
      ],
      "execution_count": 36,
      "outputs": []
    },
    {
      "cell_type": "code",
      "metadata": {
        "id": "pjaAQmF0W933"
      },
      "source": [
        "def find_all_best_thresh(main_eval, preds, exact_raw, f1_raw, na_probs, qid_to_has_ans):\n",
        "    best_exact, exact_thresh = find_best_thresh(preds, exact_raw, na_probs, qid_to_has_ans)\n",
        "    best_f1, f1_thresh = find_best_thresh(preds, f1_raw, na_probs, qid_to_has_ans)\n",
        "\n",
        "    main_eval[\"best_exact\"] = best_exact\n",
        "    main_eval[\"best_exact_thresh\"] = exact_thresh\n",
        "    main_eval[\"best_f1\"] = best_f1\n",
        "    main_eval[\"best_f1_thresh\"] = f1_thresh"
      ],
      "execution_count": 37,
      "outputs": []
    },
    {
      "cell_type": "code",
      "metadata": {
        "id": "lYld8b1KW9xF"
      },
      "source": [
        ""
      ],
      "execution_count": 37,
      "outputs": []
    },
    {
      "cell_type": "code",
      "metadata": {
        "id": "oHeQsrAdWCQ_"
      },
      "source": [
        "def squad_evaluate(examples, preds, no_answer_probs=None, no_answer_probability_threshold=1.0):\n",
        "    qas_id_to_has_answer = {example.qas_id: bool(example.answers) for example in examples}\n",
        "    has_answer_qids = [qas_id for qas_id, has_answer in qas_id_to_has_answer.items() if has_answer]\n",
        "    no_answer_qids = [qas_id for qas_id, has_answer in qas_id_to_has_answer.items() if not has_answer]\n",
        "\n",
        "    if no_answer_probs is None:\n",
        "        no_answer_probs = {k: 0.0 for k in preds}\n",
        "\n",
        "    exact, f1 = get_raw_scores(examples, preds)\n",
        "\n",
        "    exact_threshold = apply_no_ans_threshold(\n",
        "        exact, no_answer_probs, qas_id_to_has_answer, no_answer_probability_threshold\n",
        "    )\n",
        "    f1_threshold = apply_no_ans_threshold(f1, no_answer_probs, qas_id_to_has_answer, no_answer_probability_threshold)\n",
        "\n",
        "    evaluation = make_eval_dict(exact_threshold, f1_threshold)\n",
        "\n",
        "    if has_answer_qids:\n",
        "        has_ans_eval = make_eval_dict(exact_threshold, f1_threshold, qid_list=has_answer_qids)\n",
        "        merge_eval(evaluation, has_ans_eval, \"HasAns\")\n",
        "\n",
        "    if no_answer_qids:\n",
        "        no_ans_eval = make_eval_dict(exact_threshold, f1_threshold, qid_list=no_answer_qids)\n",
        "        merge_eval(evaluation, no_ans_eval, \"NoAns\")\n",
        "\n",
        "    if no_answer_probs:\n",
        "        find_all_best_thresh(evaluation, preds, exact, f1, no_answer_probs, qas_id_to_has_answer)\n",
        "\n",
        "    return evaluation"
      ],
      "execution_count": 38,
      "outputs": []
    },
    {
      "cell_type": "code",
      "metadata": {
        "id": "yS0omT24WCTx"
      },
      "source": [
        "def normalize_answer(s):\n",
        "    \"\"\"Lower text and remove punctuation, articles and extra whitespace.\"\"\"\n",
        "\n",
        "    def remove_articles(text):\n",
        "        regex = re.compile(r\"\\b(a|an|the)\\b\", re.UNICODE)\n",
        "        return re.sub(regex, \" \", text)\n",
        "\n",
        "    def white_space_fix(text):\n",
        "        return \" \".join(text.split())\n",
        "\n",
        "    def remove_punc(text):\n",
        "        exclude = set(string.punctuation)\n",
        "        return \"\".join(ch for ch in text if ch not in exclude)\n",
        "\n",
        "    def lower(text):\n",
        "        return text.lower()\n",
        "\n",
        "    return white_space_fix(remove_articles(remove_punc(lower(s))))\n",
        "\n",
        "\n",
        "def get_tokens(s):\n",
        "    if not s:\n",
        "        return []\n",
        "    return normalize_answer(s).split()\n",
        "\n",
        "\n",
        "def compute_exact(a_gold, a_pred):\n",
        "    return int(normalize_answer(a_gold) == normalize_answer(a_pred))"
      ],
      "execution_count": 39,
      "outputs": []
    },
    {
      "cell_type": "code",
      "metadata": {
        "id": "NkUas_jgZIQr"
      },
      "source": [
        "tuples_fin_preds = []\n",
        "for l in processed_fin_preds:\n",
        "    id, ans = l\n",
        "    tuples_fin_preds.append((id, ans))\n"
      ],
      "execution_count": 42,
      "outputs": []
    },
    {
      "cell_type": "code",
      "metadata": {
        "id": "aBfmrvaJa2-z"
      },
      "source": [
        "from collections import OrderedDict\n",
        "dict_l = OrderedDict(tuples_fin_preds)\n",
        "print(dict_l)"
      ],
      "execution_count": null,
      "outputs": []
    },
    {
      "cell_type": "code",
      "metadata": {
        "id": "fwKLo5VwYpDR"
      },
      "source": [
        "fin_res = squad_evaluate(examples, dict_l)"
      ],
      "execution_count": 44,
      "outputs": []
    },
    {
      "cell_type": "code",
      "metadata": {
        "colab": {
          "base_uri": "https://localhost:8080/"
        },
        "id": "s8gLW8U2abBI",
        "outputId": "160e6b1c-6ee5-4ae1-b9ba-bd2823f70df7"
      },
      "source": [
        "fin_res"
      ],
      "execution_count": 45,
      "outputs": [
        {
          "output_type": "execute_result",
          "data": {
            "text/plain": [
              "OrderedDict([('exact', 80.3503747999663),\n",
              "             ('f1', 82.93309783393421),\n",
              "             ('total', 11873),\n",
              "             ('HasAns_exact', 71.87921727395411),\n",
              "             ('HasAns_f1', 77.0520699362856),\n",
              "             ('HasAns_total', 5928),\n",
              "             ('NoAns_exact', 88.7973086627418),\n",
              "             ('NoAns_f1', 88.7973086627418),\n",
              "             ('NoAns_total', 5945),\n",
              "             ('best_exact', 80.3503747999663),\n",
              "             ('best_exact_thresh', 0.0),\n",
              "             ('best_f1', 82.93309783393411),\n",
              "             ('best_f1_thresh', 0.0)])"
            ]
          },
          "metadata": {
            "tags": []
          },
          "execution_count": 45
        }
      ]
    },
    {
      "cell_type": "code",
      "metadata": {
        "id": "Yzib3vgObJD-"
      },
      "source": [
        ""
      ],
      "execution_count": null,
      "outputs": []
    }
  ]
}