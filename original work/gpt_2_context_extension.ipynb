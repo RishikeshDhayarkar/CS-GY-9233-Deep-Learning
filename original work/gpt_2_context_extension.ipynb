{
  "nbformat": 4,
  "nbformat_minor": 0,
  "metadata": {
    "colab": {
      "name": "gpt_40.ipynb",
      "provenance": [],
      "collapsed_sections": [],
      "machine_shape": "hm"
    },
    "kernelspec": {
      "name": "python3",
      "display_name": "Python 3"
    }
  },
  "cells": [
    {
      "cell_type": "code",
      "metadata": {
        "id": "cet13K6dY2_5"
      },
      "source": [
        "!pip install simpletransformers"
      ],
      "execution_count": null,
      "outputs": []
    },
    {
      "cell_type": "code",
      "metadata": {
        "id": "zn1Cw7X7Y_0D"
      },
      "source": [
        "import json\r\n",
        "\r\n",
        "f = open('/content/train-v2.0.json')\r\n",
        "train_data = json.load(f)\r\n",
        "f.close()"
      ],
      "execution_count": 2,
      "outputs": []
    },
    {
      "cell_type": "code",
      "metadata": {
        "id": "HKR1ZY5XKq8a"
      },
      "source": [
        ""
      ],
      "execution_count": null,
      "outputs": []
    },
    {
      "cell_type": "code",
      "metadata": {
        "id": "J09xlC2-Y_xr"
      },
      "source": [
        "import logging\r\n",
        "from simpletransformers.language_generation import LanguageGenerationModel\r\n",
        "from random import randrange\r\n",
        "import random\r\n",
        "\r\n",
        "logging.basicConfig(level=logging.INFO)\r\n",
        "transformers_logger = logging.getLogger(\"transformers\")\r\n",
        "transformers_logger.setLevel(logging.WARNING)\r\n",
        "\r\n",
        "model = LanguageGenerationModel(\"gpt2\", \"gpt2\", args={\"max_length\": 256}, use_cuda = True)\r\n",
        "\r\n",
        "percentage = 0.5\r\n",
        "\r\n",
        "for i in range(len(train_data['data'])):\r\n",
        "\r\n",
        "    rand_count = len(train_data['data'][i]['paragraphs']) * percentage\r\n",
        "    samples = random.sample(range(0, len(train_data['data'][i]['paragraphs'])), int(rand_count))\r\n",
        "\r\n",
        "    for j in samples:\r\n",
        "\r\n",
        "        aug_sent = model.generate(train_data['data'][i]['paragraphs'][j]['context'], verbose=False)\r\n",
        "        aug_sent_mod = '.'.join(aug_sent[0].split('.')[:-1]) + '.'\r\n",
        "\r\n",
        "        train_data['data'][i]['paragraphs'][j]['context'] = aug_sent_mod"
      ],
      "execution_count": null,
      "outputs": []
    },
    {
      "cell_type": "code",
      "metadata": {
        "id": "MAFrpP2KY_vI"
      },
      "source": [
        ""
      ],
      "execution_count": null,
      "outputs": []
    },
    {
      "cell_type": "code",
      "metadata": {
        "id": "3hhYk3grahq7"
      },
      "source": [
        ""
      ],
      "execution_count": null,
      "outputs": []
    },
    {
      "cell_type": "code",
      "metadata": {
        "id": "3ieWLupsaiPR"
      },
      "source": [
        ""
      ],
      "execution_count": null,
      "outputs": []
    }
  ]
}