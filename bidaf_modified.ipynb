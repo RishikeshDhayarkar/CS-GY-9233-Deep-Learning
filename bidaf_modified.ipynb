{
  "nbformat": 4,
  "nbformat_minor": 0,
  "metadata": {
    "colab": {
      "name": "bidaf_vanilla.ipynb",
      "provenance": [],
      "collapsed_sections": [],
      "machine_shape": "hm"
    },
    "kernelspec": {
      "display_name": "Python 3",
      "name": "python3"
    },
    "accelerator": "GPU"
  },
  "cells": [
    {
      "cell_type": "code",
      "metadata": {
        "id": "Usc0D7FzOLaq",
        "colab": {
          "base_uri": "https://localhost:8080/"
        },
        "outputId": "0c29e947-47c3-46a6-9662-e631e885c898"
      },
      "source": [
        "!pip install torch==1.6.0+cu101 torchvision==0.7.0+cu101 -f https://download.pytorch.org/whl/torch_stable.html\n",
        "import torch\n",
        "print(torch.__version__)"
      ],
      "execution_count": 1,
      "outputs": [
        {
          "output_type": "stream",
          "text": [
            "Looking in links: https://download.pytorch.org/whl/torch_stable.html\n",
            "Collecting torch==1.6.0+cu101\n",
            "\u001b[?25l  Downloading https://download.pytorch.org/whl/cu101/torch-1.6.0%2Bcu101-cp36-cp36m-linux_x86_64.whl (708.0MB)\n",
            "\u001b[K     |████████████████████████████████| 708.0MB 24kB/s \n",
            "\u001b[?25hCollecting torchvision==0.7.0+cu101\n",
            "\u001b[?25l  Downloading https://download.pytorch.org/whl/cu101/torchvision-0.7.0%2Bcu101-cp36-cp36m-linux_x86_64.whl (5.9MB)\n",
            "\u001b[K     |████████████████████████████████| 5.9MB 62.1MB/s \n",
            "\u001b[?25hRequirement already satisfied: numpy in /usr/local/lib/python3.6/dist-packages (from torch==1.6.0+cu101) (1.18.5)\n",
            "Requirement already satisfied: future in /usr/local/lib/python3.6/dist-packages (from torch==1.6.0+cu101) (0.16.0)\n",
            "Requirement already satisfied: pillow>=4.1.1 in /usr/local/lib/python3.6/dist-packages (from torchvision==0.7.0+cu101) (7.0.0)\n",
            "Installing collected packages: torch, torchvision\n",
            "  Found existing installation: torch 1.7.0+cu101\n",
            "    Uninstalling torch-1.7.0+cu101:\n",
            "      Successfully uninstalled torch-1.7.0+cu101\n",
            "  Found existing installation: torchvision 0.8.1+cu101\n",
            "    Uninstalling torchvision-0.8.1+cu101:\n",
            "      Successfully uninstalled torchvision-0.8.1+cu101\n",
            "Successfully installed torch-1.6.0+cu101 torchvision-0.7.0+cu101\n",
            "1.6.0+cu101\n"
          ],
          "name": "stdout"
        }
      ]
    },
    {
      "cell_type": "code",
      "metadata": {
        "colab": {
          "base_uri": "https://localhost:8080/"
        },
        "id": "hW9Kh_R5Qvg6",
        "outputId": "93c52105-daf4-40ee-8db7-f389a4050b98"
      },
      "source": [
        "# this mounts your Google Drive to the Colab VM.\n",
        "from google.colab import drive\n",
        "drive.mount('/content/drive', force_remount=True)\n",
        "\n",
        "# enter the foldername in your Drive where you have saved the unzipped\n",
        "FOLDERNAME = 'cs224n/bidaf_project'\n",
        "assert FOLDERNAME is not None, \"[!] Enter the foldername.\"\n",
        "\n",
        "# now that we've mounted your Drive, this ensures that|\n",
        "# the Python interpreter of the Colab VM can load\n",
        "# python files from within it.\n",
        "import sys\n",
        "sys.path.append('/content/drive/My Drive/{}'.format(FOLDERNAME))"
      ],
      "execution_count": 2,
      "outputs": [
        {
          "output_type": "stream",
          "text": [
            "Mounted at /content/drive\n"
          ],
          "name": "stdout"
        }
      ]
    },
    {
      "cell_type": "code",
      "metadata": {
        "colab": {
          "base_uri": "https://localhost:8080/"
        },
        "id": "1tyVjFrkRy2I",
        "outputId": "8cab198d-6d45-4889-a6f3-2567c280f052"
      },
      "source": [
        "%cd /content/drive/My Drive/cs224n/bidaf_project/project"
      ],
      "execution_count": 3,
      "outputs": [
        {
          "output_type": "stream",
          "text": [
            "/content/drive/My Drive/cs224n/bidaf_project/project\n"
          ],
          "name": "stdout"
        }
      ]
    },
    {
      "cell_type": "code",
      "metadata": {
        "id": "wWF0_IdTjjKj"
      },
      "source": [
        "# 'https://github.com/chrischute/squad/data/train-v2.0.json'"
      ],
      "execution_count": 4,
      "outputs": []
    },
    {
      "cell_type": "code",
      "metadata": {
        "id": "vMWm72p0S9nN"
      },
      "source": [
        "import sys\n",
        "import warnings\n",
        "warnings.filterwarnings('ignore', category=UserWarning)"
      ],
      "execution_count": 5,
      "outputs": []
    },
    {
      "cell_type": "code",
      "metadata": {
        "colab": {
          "base_uri": "https://localhost:8080/"
        },
        "id": "wSjbIbgAT12x",
        "outputId": "6016e478-b5b7-4087-bd21-5dce07a8ebef"
      },
      "source": [
        "!pip install ujson"
      ],
      "execution_count": 6,
      "outputs": [
        {
          "output_type": "stream",
          "text": [
            "Collecting ujson\n",
            "\u001b[?25l  Downloading https://files.pythonhosted.org/packages/f1/84/e039c6ffc6603f2dfe966972d345d4f650a4ffd74b18c852ece645de12ac/ujson-4.0.1-cp36-cp36m-manylinux1_x86_64.whl (179kB)\n",
            "\r\u001b[K     |█▉                              | 10kB 12.8MB/s eta 0:00:01\r\u001b[K     |███▋                            | 20kB 18.4MB/s eta 0:00:01\r\u001b[K     |█████▌                          | 30kB 23.1MB/s eta 0:00:01\r\u001b[K     |███████▎                        | 40kB 19.3MB/s eta 0:00:01\r\u001b[K     |█████████▏                      | 51kB 16.4MB/s eta 0:00:01\r\u001b[K     |███████████                     | 61kB 18.4MB/s eta 0:00:01\r\u001b[K     |████████████▉                   | 71kB 12.0MB/s eta 0:00:01\r\u001b[K     |██████████████▋                 | 81kB 12.9MB/s eta 0:00:01\r\u001b[K     |████████████████▌               | 92kB 12.7MB/s eta 0:00:01\r\u001b[K     |██████████████████▎             | 102kB 12.1MB/s eta 0:00:01\r\u001b[K     |████████████████████            | 112kB 12.1MB/s eta 0:00:01\r\u001b[K     |██████████████████████          | 122kB 12.1MB/s eta 0:00:01\r\u001b[K     |███████████████████████▊        | 133kB 12.1MB/s eta 0:00:01\r\u001b[K     |█████████████████████████▋      | 143kB 12.1MB/s eta 0:00:01\r\u001b[K     |███████████████████████████▍    | 153kB 12.1MB/s eta 0:00:01\r\u001b[K     |█████████████████████████████▎  | 163kB 12.1MB/s eta 0:00:01\r\u001b[K     |███████████████████████████████ | 174kB 12.1MB/s eta 0:00:01\r\u001b[K     |████████████████████████████████| 184kB 12.1MB/s \n",
            "\u001b[?25hInstalling collected packages: ujson\n",
            "Successfully installed ujson-4.0.1\n"
          ],
          "name": "stdout"
        }
      ]
    },
    {
      "cell_type": "code",
      "metadata": {
        "id": "WDVxfc6dTs1S"
      },
      "source": [
        "import ujson as json"
      ],
      "execution_count": 7,
      "outputs": []
    },
    {
      "cell_type": "code",
      "metadata": {
        "id": "AxnAl01lSGk4"
      },
      "source": [
        "%run -i 'layers.py' "
      ],
      "execution_count": 8,
      "outputs": []
    },
    {
      "cell_type": "code",
      "metadata": {
        "id": "bbX0oUVJSYsi"
      },
      "source": [
        "%run -i 'models.py' "
      ],
      "execution_count": 9,
      "outputs": []
    },
    {
      "cell_type": "code",
      "metadata": {
        "colab": {
          "base_uri": "https://localhost:8080/"
        },
        "id": "sMEHQCfoT9o_",
        "outputId": "50e2dcd9-0feb-4a35-f91a-52d8b08c69b9"
      },
      "source": [
        "%run -i 'setup.py' "
      ],
      "execution_count": 10,
      "outputs": [
        {
          "output_type": "stream",
          "text": [
            "Downloading spacy language model...\n",
            "Pre-processing train examples...\n"
          ],
          "name": "stdout"
        },
        {
          "output_type": "stream",
          "text": [
            "100%|██████████| 442/442 [01:01<00:00,  7.23it/s]\n"
          ],
          "name": "stderr"
        },
        {
          "output_type": "stream",
          "text": [
            "130319 questions in total\n",
            "Pre-processing word vectors...\n"
          ],
          "name": "stdout"
        },
        {
          "output_type": "stream",
          "text": [
            "2196018it [03:35, 10197.60it/s]                             \n"
          ],
          "name": "stderr"
        },
        {
          "output_type": "stream",
          "text": [
            "88747 / 107430 tokens have corresponding word embedding vector\n",
            "Pre-processing char vectors...\n",
            "1374 tokens have corresponding char embedding vector\n",
            "Pre-processing dev examples...\n"
          ],
          "name": "stdout"
        },
        {
          "output_type": "stream",
          "text": [
            "100%|██████████| 16/16 [00:02<00:00,  6.78it/s]\n",
            "227it [00:00, 2265.20it/s]"
          ],
          "name": "stderr"
        },
        {
          "output_type": "stream",
          "text": [
            "6078 questions in total\n",
            "Converting train examples to indices...\n"
          ],
          "name": "stdout"
        },
        {
          "output_type": "stream",
          "text": [
            "130319it [00:46, 2802.62it/s]\n",
            "316it [00:00, 3152.25it/s]"
          ],
          "name": "stderr"
        },
        {
          "output_type": "stream",
          "text": [
            "Built 129922 / 130319 instances of features in total\n",
            "Converting dev examples to indices...\n"
          ],
          "name": "stdout"
        },
        {
          "output_type": "stream",
          "text": [
            "6078it [00:02, 2782.09it/s]\n",
            "  0%|          | 0/16 [00:00<?, ?it/s]"
          ],
          "name": "stderr"
        },
        {
          "output_type": "stream",
          "text": [
            "Built 5951 / 6078 instances of features in total\n",
            "Pre-processing test examples...\n"
          ],
          "name": "stdout"
        },
        {
          "output_type": "stream",
          "text": [
            "100%|██████████| 16/16 [00:02<00:00,  6.85it/s]\n"
          ],
          "name": "stderr"
        },
        {
          "output_type": "stream",
          "text": [
            "6078 questions in total\n",
            "Saving test eval...\n"
          ],
          "name": "stdout"
        },
        {
          "output_type": "stream",
          "text": [
            "315it [00:00, 3136.30it/s]"
          ],
          "name": "stderr"
        },
        {
          "output_type": "stream",
          "text": [
            "Converting test examples to indices...\n"
          ],
          "name": "stdout"
        },
        {
          "output_type": "stream",
          "text": [
            "6078it [00:02, 2285.56it/s]\n"
          ],
          "name": "stderr"
        },
        {
          "output_type": "stream",
          "text": [
            "Built 6078 / 6078 instances of features in total\n",
            "Saving test meta...\n",
            "Saving word embedding...\n",
            "Saving char embedding...\n",
            "Saving train eval...\n",
            "Saving dev eval...\n",
            "Saving word dictionary...\n",
            "Saving char dictionary...\n",
            "Saving dev meta...\n"
          ],
          "name": "stdout"
        }
      ]
    },
    {
      "cell_type": "code",
      "metadata": {
        "colab": {
          "base_uri": "https://localhost:8080/"
        },
        "id": "9x1yiR5nD9oJ",
        "outputId": "7b1ff20c-587e-4b4d-847a-57095aea4334"
      },
      "source": [
        "!pip install tensorboardX"
      ],
      "execution_count": 11,
      "outputs": [
        {
          "output_type": "stream",
          "text": [
            "Collecting tensorboardX\n",
            "\u001b[?25l  Downloading https://files.pythonhosted.org/packages/af/0c/4f41bcd45db376e6fe5c619c01100e9b7531c55791b7244815bac6eac32c/tensorboardX-2.1-py2.py3-none-any.whl (308kB)\n",
            "\r\u001b[K     |█                               | 10kB 17.7MB/s eta 0:00:01\r\u001b[K     |██▏                             | 20kB 24.2MB/s eta 0:00:01\r\u001b[K     |███▏                            | 30kB 29.4MB/s eta 0:00:01\r\u001b[K     |████▎                           | 40kB 20.3MB/s eta 0:00:01\r\u001b[K     |█████▎                          | 51kB 17.3MB/s eta 0:00:01\r\u001b[K     |██████▍                         | 61kB 19.2MB/s eta 0:00:01\r\u001b[K     |███████▍                        | 71kB 16.3MB/s eta 0:00:01\r\u001b[K     |████████▌                       | 81kB 14.3MB/s eta 0:00:01\r\u001b[K     |█████████▌                      | 92kB 14.3MB/s eta 0:00:01\r\u001b[K     |██████████▋                     | 102kB 13.2MB/s eta 0:00:01\r\u001b[K     |███████████▊                    | 112kB 13.2MB/s eta 0:00:01\r\u001b[K     |████████████▊                   | 122kB 13.2MB/s eta 0:00:01\r\u001b[K     |█████████████▉                  | 133kB 13.2MB/s eta 0:00:01\r\u001b[K     |██████████████▉                 | 143kB 13.2MB/s eta 0:00:01\r\u001b[K     |████████████████                | 153kB 13.2MB/s eta 0:00:01\r\u001b[K     |█████████████████               | 163kB 13.2MB/s eta 0:00:01\r\u001b[K     |██████████████████              | 174kB 13.2MB/s eta 0:00:01\r\u001b[K     |███████████████████             | 184kB 13.2MB/s eta 0:00:01\r\u001b[K     |████████████████████▏           | 194kB 13.2MB/s eta 0:00:01\r\u001b[K     |█████████████████████▎          | 204kB 13.2MB/s eta 0:00:01\r\u001b[K     |██████████████████████▎         | 215kB 13.2MB/s eta 0:00:01\r\u001b[K     |███████████████████████▍        | 225kB 13.2MB/s eta 0:00:01\r\u001b[K     |████████████████████████▍       | 235kB 13.2MB/s eta 0:00:01\r\u001b[K     |█████████████████████████▌      | 245kB 13.2MB/s eta 0:00:01\r\u001b[K     |██████████████████████████▌     | 256kB 13.2MB/s eta 0:00:01\r\u001b[K     |███████████████████████████▋    | 266kB 13.2MB/s eta 0:00:01\r\u001b[K     |████████████████████████████▋   | 276kB 13.2MB/s eta 0:00:01\r\u001b[K     |█████████████████████████████▊  | 286kB 13.2MB/s eta 0:00:01\r\u001b[K     |██████████████████████████████▊ | 296kB 13.2MB/s eta 0:00:01\r\u001b[K     |███████████████████████████████▉| 307kB 13.2MB/s eta 0:00:01\r\u001b[K     |████████████████████████████████| 317kB 13.2MB/s \n",
            "\u001b[?25hRequirement already satisfied: protobuf>=3.8.0 in /usr/local/lib/python3.6/dist-packages (from tensorboardX) (3.12.4)\n",
            "Requirement already satisfied: numpy in /usr/local/lib/python3.6/dist-packages (from tensorboardX) (1.18.5)\n",
            "Requirement already satisfied: six in /usr/local/lib/python3.6/dist-packages (from tensorboardX) (1.15.0)\n",
            "Requirement already satisfied: setuptools in /usr/local/lib/python3.6/dist-packages (from protobuf>=3.8.0->tensorboardX) (50.3.2)\n",
            "Installing collected packages: tensorboardX\n",
            "Successfully installed tensorboardX-2.1\n"
          ],
          "name": "stdout"
        }
      ]
    },
    {
      "cell_type": "code",
      "metadata": {
        "id": "w7rngZqcT_01"
      },
      "source": [
        "%run -i 'util.py' "
      ],
      "execution_count": 12,
      "outputs": []
    },
    {
      "cell_type": "code",
      "metadata": {
        "id": "P2tvqTXEXhau"
      },
      "source": [
        "%run -i 'args.py'"
      ],
      "execution_count": 13,
      "outputs": []
    },
    {
      "cell_type": "code",
      "metadata": {
        "id": "hB-KqbjsN-Ip"
      },
      "source": [
        "# !tensorboard --logdir save --port 5678"
      ],
      "execution_count": 14,
      "outputs": []
    },
    {
      "cell_type": "code",
      "metadata": {
        "id": "vxk0K5waevAZ"
      },
      "source": [
        "# !pip install torch==1.6.0+cu101 torchvision==0.7.0+cu101 -f https://download.pytorch.org/whl/torch_stable.html\n",
        "# import torch\n",
        "# print(torch.__version__)"
      ],
      "execution_count": 15,
      "outputs": []
    },
    {
      "cell_type": "code",
      "metadata": {
        "id": "BIAvuHSnUCbV",
        "colab": {
          "base_uri": "https://localhost:8080/"
        },
        "outputId": "e0c3387d-96d0-4fc8-afff-40051438b9bc"
      },
      "source": [
        "%run -i 'train.py' -n baseline"
      ],
      "execution_count": 16,
      "outputs": [
                
        {
          "output_type": "stream",
          "text": [
            "100%|██████████| 129922/129922 [07:18<00:00, 295.96it/s, NLL=0.383, epoch=30]\n"
          ],
          "name": "stderr"
        }
      ]
    },
    {
      "cell_type": "code",
      "metadata": {
        "id": "dhsMAiFtebec"
      },
      "source": [
        "%run -i 'args.py'"
      ],
      "execution_count": 49,
      "outputs": []
    },
    {
      "cell_type": "code",
      "metadata": {
        "id": "3V22gRg1Mvy7",
        "colab": {
          "base_uri": "https://localhost:8080/"
        },
        "outputId": "a7e9a643-3f70-4c02-d087-2dfbe2cf361e"
      },
      "source": [
        "# /content/drive/MyDrive/cs224n/bidaf_project/project/save/train/baseline-07\n",
        "# /content/drive/MyDrive/cs224n/bidaf_project/project/save/train/baseline-07/step_3503412.pth.tar\n",
        "# /content/drive/MyDrive/cs224n/bidaf_project/project/save/train/baseline-07/best.pth.tar\n",
        "\n",
        "%run -i 'test.py' -n basline-07 --load_path 'save/train/baseline-07/best.pth.tar'"
      ],
      "execution_count": 51,
      "outputs": [
        {
          "output_type": "stream",
          "text": [
            "[11.27.20 02:52:40] Args: {\n",
            "    \"batch_size\": 64,\n",
            "    \"char_emb_file\": \"./data/char_emb.json\",\n",
            "    \"dev_eval_file\": \"./data/dev_eval.json\",\n",
            "    \"dev_record_file\": \"./data/dev.npz\",\n",
            "    \"hidden_size\": 100,\n",
            "    \"load_path\": \"save/train/baseline-07/best.pth.tar\",\n",
            "    \"max_ans_len\": 15,\n",
            "    \"name\": \"basline-07\",\n",
            "    \"num_visuals\": 10,\n",
            "    \"num_workers\": 4,\n",
            "    \"save_dir\": \"./save/test/basline-07-03\",\n",
            "    \"split\": \"dev\",\n",
            "    \"sub_file\": \"submission.csv\",\n",
            "    \"test_eval_file\": \"./data/test_eval.json\",\n",
            "    \"test_record_file\": \"./data/test.npz\",\n",
            "    \"train_eval_file\": \"./data/train_eval.json\",\n",
            "    \"train_record_file\": \"./data/train.npz\",\n",
            "    \"use_squad_v2\": true,\n",
            "    \"word_emb_file\": \"./data/word_emb.json\"\n",
            "}\n",
            "[11.27.20 02:52:40] Args: {\n",
            "    \"batch_size\": 64,\n",
            "    \"char_emb_file\": \"./data/char_emb.json\",\n",
            "    \"dev_eval_file\": \"./data/dev_eval.json\",\n",
            "    \"dev_record_file\": \"./data/dev.npz\",\n",
            "    \"hidden_size\": 100,\n",
            "    \"load_path\": \"save/train/baseline-07/best.pth.tar\",\n",
            "    \"max_ans_len\": 15,\n",
            "    \"name\": \"basline-07\",\n",
            "    \"num_visuals\": 10,\n",
            "    \"num_workers\": 4,\n",
            "    \"save_dir\": \"./save/test/basline-07-03\",\n",
            "    \"split\": \"dev\",\n",
            "    \"sub_file\": \"submission.csv\",\n",
            "    \"test_eval_file\": \"./data/test_eval.json\",\n",
            "    \"test_record_file\": \"./data/test.npz\",\n",
            "    \"train_eval_file\": \"./data/train_eval.json\",\n",
            "    \"train_record_file\": \"./data/train.npz\",\n",
            "    \"use_squad_v2\": true,\n",
            "    \"word_emb_file\": \"./data/word_emb.json\"\n",
            "}\n",
            "[11.27.20 02:52:40] Args: {\n",
            "    \"batch_size\": 64,\n",
            "    \"char_emb_file\": \"./data/char_emb.json\",\n",
            "    \"dev_eval_file\": \"./data/dev_eval.json\",\n",
            "    \"dev_record_file\": \"./data/dev.npz\",\n",
            "    \"hidden_size\": 100,\n",
            "    \"load_path\": \"save/train/baseline-07/best.pth.tar\",\n",
            "    \"max_ans_len\": 15,\n",
            "    \"name\": \"basline-07\",\n",
            "    \"num_visuals\": 10,\n",
            "    \"num_workers\": 4,\n",
            "    \"save_dir\": \"./save/test/basline-07-03\",\n",
            "    \"split\": \"dev\",\n",
            "    \"sub_file\": \"submission.csv\",\n",
            "    \"test_eval_file\": \"./data/test_eval.json\",\n",
            "    \"test_record_file\": \"./data/test.npz\",\n",
            "    \"train_eval_file\": \"./data/train_eval.json\",\n",
            "    \"train_record_file\": \"./data/train.npz\",\n",
            "    \"use_squad_v2\": true,\n",
            "    \"word_emb_file\": \"./data/word_emb.json\"\n",
            "}\n",
            "[11.27.20 02:52:40] Loading embeddings...\n",
            "[11.27.20 02:52:40] Loading embeddings...\n",
            "[11.27.20 02:52:40] Loading embeddings...\n",
            "[11.27.20 02:52:45] Building model...\n",
            "[11.27.20 02:52:45] Building model...\n",
            "[11.27.20 02:52:45] Building model...\n",
            "[11.27.20 02:52:46] Loading checkpoint from save/train/baseline-07/best.pth.tar...\n",
            "[11.27.20 02:52:46] Loading checkpoint from save/train/baseline-07/best.pth.tar...\n",
            "[11.27.20 02:52:46] Loading checkpoint from save/train/baseline-07/best.pth.tar...\n",
            "[11.27.20 02:52:46] Building dataset...\n",
            "[11.27.20 02:52:46] Building dataset...\n",
            "[11.27.20 02:52:46] Building dataset...\n",
            "[11.27.20 02:52:46] Evaluating on dev split...\n",
            "[11.27.20 02:52:46] Evaluating on dev split...\n",
            "[11.27.20 02:52:46] Evaluating on dev split...\n"
          ],
          "name": "stdout"
        },
        {
          "output_type": "stream",
          "text": [
            "100%|██████████| 5951/5951 [00:06<00:00, 933.12it/s, NLL=3.2] \n"
          ],
          "name": "stderr"
        },
        {
          "output_type": "stream",
          "text": [
            "[11.27.20 02:52:54] Dev NLL: 03.20, F1: 63.80, EM: 60.015, AvNA: 67.60\n",
            "[11.27.20 02:52:54] Dev NLL: 03.20, F1: 63.80, EM: 60.015, AvNA: 67.60\n",
            "[11.27.20 02:52:54] Dev NLL: 03.20, F1: 63.80, EM: 60.015, AvNA: 67.60\n",
            "[11.27.20 02:52:55] Writing submission file to ./save/test/basline-07-03/dev_submission.csv...\n",
            "[11.27.20 02:52:55] Writing submission file to ./save/test/basline-07-03/dev_submission.csv...\n",
            "[11.27.20 02:52:55] Writing submission file to ./save/test/basline-07-03/dev_submission.csv...\n"
          ],
          "name": "stdout"
        }
      ]
    },
    {
      "cell_type": "code",
      "metadata": {
        "id": "JzPajLp1W5Pb",
        "colab": {
          "base_uri": "https://localhost:8080/"
        },
        "outputId": "38ee48a1-42be-4f65-b067-cc9c79b257b2"
      },
      "source": [
        "!pwd"
      ],
      "execution_count": 31,
      "outputs": [
        {
          "output_type": "stream",
          "text": [
            "/content/drive/My Drive/cs224n/bidaf_project/project\n"
          ],
          "name": "stdout"
        }
      ]
    },
    {
      "cell_type": "code",
      "metadata": {
        "id": "dRUM_G0seNNr"
      },
      "source": [
        ""
      ],
      "execution_count": null,
      "outputs": []
    }
  ]
}